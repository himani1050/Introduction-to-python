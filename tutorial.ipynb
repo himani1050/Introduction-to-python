{
 "cells": [
  {
   "cell_type": "markdown",
   "id": "ead73f7d",
   "metadata": {},
   "source": [
    "# Pandas: Data structure and data analysis tools"
   ]
  },
  {
   "cell_type": "code",
   "execution_count": 3,
   "id": "6b1fd3af",
   "metadata": {},
   "outputs": [],
   "source": [
    "# pip install pandas\n",
    "# pip install numpy\n",
    "# pip install matplotlib \n",
    "# pip install seaborn\n",
    "# pip install biopython"
   ]
  },
  {
   "cell_type": "code",
   "execution_count": 4,
   "id": "5181ef3c",
   "metadata": {},
   "outputs": [],
   "source": [
    "import pandas as pd"
   ]
  },
  {
   "cell_type": "code",
   "execution_count": 9,
   "id": "991e45a2",
   "metadata": {},
   "outputs": [
    {
     "name": "stdout",
     "output_type": "stream",
     "text": [
      "   col1 col2\n",
      "0     1    A\n",
      "1     2    B\n",
      "2     0    C\n",
      "3     5    D\n"
     ]
    }
   ],
   "source": [
    "data = {'col1': [1,2,0,5], 'col2': ['A', 'B', 'C', 'D']}\n",
    "df = pd.DataFrame(data)\n",
    "print(df)"
   ]
  },
  {
   "cell_type": "code",
   "execution_count": 10,
   "id": "901d724c",
   "metadata": {},
   "outputs": [
    {
     "name": "stdout",
     "output_type": "stream",
     "text": [
      "0    A\n",
      "1    B\n",
      "2    C\n",
      "3    D\n",
      "Name: col2, dtype: object\n"
     ]
    }
   ],
   "source": [
    "print(df['col2'])"
   ]
  },
  {
   "cell_type": "code",
   "execution_count": 11,
   "id": "3adde683",
   "metadata": {},
   "outputs": [
    {
     "name": "stdout",
     "output_type": "stream",
     "text": [
      "   col1 col2\n",
      "1     2    B\n",
      "3     5    D\n"
     ]
    }
   ],
   "source": [
    "filtered_df = df[df['col1'] > 1]\n",
    "print(filtered_df)"
   ]
  },
  {
   "cell_type": "code",
   "execution_count": 12,
   "id": "f80fe342",
   "metadata": {},
   "outputs": [
    {
     "name": "stdout",
     "output_type": "stream",
     "text": [
      "   col1 col2  col3\n",
      "0     1    A     2\n",
      "1     2    B     4\n",
      "2     0    C     0\n",
      "3     5    D    10\n"
     ]
    }
   ],
   "source": [
    "df['col3'] = df['col1']*2\n",
    "print(df)"
   ]
  },
  {
   "cell_type": "code",
   "execution_count": 14,
   "id": "ecb5da7e",
   "metadata": {},
   "outputs": [
    {
     "data": {
      "text/html": [
       "<div>\n",
       "<style scoped>\n",
       "    .dataframe tbody tr th:only-of-type {\n",
       "        vertical-align: middle;\n",
       "    }\n",
       "\n",
       "    .dataframe tbody tr th {\n",
       "        vertical-align: top;\n",
       "    }\n",
       "\n",
       "    .dataframe thead th {\n",
       "        text-align: right;\n",
       "    }\n",
       "</style>\n",
       "<table border=\"1\" class=\"dataframe\">\n",
       "  <thead>\n",
       "    <tr style=\"text-align: right;\">\n",
       "      <th></th>\n",
       "      <th>baseMean</th>\n",
       "      <th>log2FoldChange</th>\n",
       "      <th>lfcSE</th>\n",
       "      <th>stat</th>\n",
       "      <th>pvalue</th>\n",
       "      <th>padj</th>\n",
       "    </tr>\n",
       "  </thead>\n",
       "  <tbody>\n",
       "    <tr>\n",
       "      <th>0</th>\n",
       "      <td>8.937455</td>\n",
       "      <td>-0.241536</td>\n",
       "      <td>0.416100</td>\n",
       "      <td>-0.580477</td>\n",
       "      <td>0.561593</td>\n",
       "      <td>0.781030</td>\n",
       "    </tr>\n",
       "    <tr>\n",
       "      <th>1</th>\n",
       "      <td>585.608093</td>\n",
       "      <td>-0.206431</td>\n",
       "      <td>0.180032</td>\n",
       "      <td>-1.146632</td>\n",
       "      <td>0.251534</td>\n",
       "      <td>0.506894</td>\n",
       "    </tr>\n",
       "    <tr>\n",
       "      <th>2</th>\n",
       "      <td>9.537283</td>\n",
       "      <td>-0.198992</td>\n",
       "      <td>0.465941</td>\n",
       "      <td>-0.427076</td>\n",
       "      <td>0.669324</td>\n",
       "      <td>0.848393</td>\n",
       "    </tr>\n",
       "    <tr>\n",
       "      <th>3</th>\n",
       "      <td>1.496880</td>\n",
       "      <td>-0.166880</td>\n",
       "      <td>0.914647</td>\n",
       "      <td>-0.182453</td>\n",
       "      <td>0.855227</td>\n",
       "      <td>NaN</td>\n",
       "    </tr>\n",
       "    <tr>\n",
       "      <th>4</th>\n",
       "      <td>0.029395</td>\n",
       "      <td>-0.001179</td>\n",
       "      <td>6.244734</td>\n",
       "      <td>-0.000189</td>\n",
       "      <td>0.999849</td>\n",
       "      <td>NaN</td>\n",
       "    </tr>\n",
       "    <tr>\n",
       "      <th>...</th>\n",
       "      <td>...</td>\n",
       "      <td>...</td>\n",
       "      <td>...</td>\n",
       "      <td>...</td>\n",
       "      <td>...</td>\n",
       "      <td>...</td>\n",
       "    </tr>\n",
       "    <tr>\n",
       "      <th>31671</th>\n",
       "      <td>42502.219218</td>\n",
       "      <td>-0.820926</td>\n",
       "      <td>0.286773</td>\n",
       "      <td>-2.862634</td>\n",
       "      <td>0.004201</td>\n",
       "      <td>0.032088</td>\n",
       "    </tr>\n",
       "    <tr>\n",
       "      <th>31672</th>\n",
       "      <td>2366.358371</td>\n",
       "      <td>-0.468624</td>\n",
       "      <td>0.223000</td>\n",
       "      <td>-2.101452</td>\n",
       "      <td>0.035601</td>\n",
       "      <td>0.145959</td>\n",
       "    </tr>\n",
       "    <tr>\n",
       "      <th>31673</th>\n",
       "      <td>109936.537426</td>\n",
       "      <td>-0.625287</td>\n",
       "      <td>0.351130</td>\n",
       "      <td>-1.780786</td>\n",
       "      <td>0.074947</td>\n",
       "      <td>0.240329</td>\n",
       "    </tr>\n",
       "    <tr>\n",
       "      <th>31674</th>\n",
       "      <td>548.525970</td>\n",
       "      <td>-0.964636</td>\n",
       "      <td>0.283316</td>\n",
       "      <td>-3.404804</td>\n",
       "      <td>0.000662</td>\n",
       "      <td>0.007922</td>\n",
       "    </tr>\n",
       "    <tr>\n",
       "      <th>31675</th>\n",
       "      <td>530.146055</td>\n",
       "      <td>-0.998164</td>\n",
       "      <td>0.310798</td>\n",
       "      <td>-3.211619</td>\n",
       "      <td>0.001320</td>\n",
       "      <td>0.013429</td>\n",
       "    </tr>\n",
       "  </tbody>\n",
       "</table>\n",
       "<p>31676 rows × 6 columns</p>\n",
       "</div>"
      ],
      "text/plain": [
       "            baseMean  log2FoldChange     lfcSE      stat    pvalue      padj\n",
       "0           8.937455       -0.241536  0.416100 -0.580477  0.561593  0.781030\n",
       "1         585.608093       -0.206431  0.180032 -1.146632  0.251534  0.506894\n",
       "2           9.537283       -0.198992  0.465941 -0.427076  0.669324  0.848393\n",
       "3           1.496880       -0.166880  0.914647 -0.182453  0.855227       NaN\n",
       "4           0.029395       -0.001179  6.244734 -0.000189  0.999849       NaN\n",
       "...              ...             ...       ...       ...       ...       ...\n",
       "31671   42502.219218       -0.820926  0.286773 -2.862634  0.004201  0.032088\n",
       "31672    2366.358371       -0.468624  0.223000 -2.101452  0.035601  0.145959\n",
       "31673  109936.537426       -0.625287  0.351130 -1.780786  0.074947  0.240329\n",
       "31674     548.525970       -0.964636  0.283316 -3.404804  0.000662  0.007922\n",
       "31675     530.146055       -0.998164  0.310798 -3.211619  0.001320  0.013429\n",
       "\n",
       "[31676 rows x 6 columns]"
      ]
     },
     "execution_count": 14,
     "metadata": {},
     "output_type": "execute_result"
    }
   ],
   "source": [
    "df2 = pd.read_csv('differential_expression_results.csv')\n",
    "df2"
   ]
  },
  {
   "cell_type": "code",
   "execution_count": 16,
   "id": "df2163d6",
   "metadata": {},
   "outputs": [
    {
     "data": {
      "text/html": [
       "<div>\n",
       "<style scoped>\n",
       "    .dataframe tbody tr th:only-of-type {\n",
       "        vertical-align: middle;\n",
       "    }\n",
       "\n",
       "    .dataframe tbody tr th {\n",
       "        vertical-align: top;\n",
       "    }\n",
       "\n",
       "    .dataframe thead th {\n",
       "        text-align: right;\n",
       "    }\n",
       "</style>\n",
       "<table border=\"1\" class=\"dataframe\">\n",
       "  <thead>\n",
       "    <tr style=\"text-align: right;\">\n",
       "      <th></th>\n",
       "      <th>baseMean</th>\n",
       "      <th>log2FoldChange</th>\n",
       "      <th>lfcSE</th>\n",
       "      <th>stat</th>\n",
       "      <th>pvalue</th>\n",
       "      <th>padj</th>\n",
       "    </tr>\n",
       "  </thead>\n",
       "  <tbody>\n",
       "    <tr>\n",
       "      <th>31671</th>\n",
       "      <td>42502.219218</td>\n",
       "      <td>-0.820926</td>\n",
       "      <td>0.286773</td>\n",
       "      <td>-2.862634</td>\n",
       "      <td>0.004201</td>\n",
       "      <td>0.032088</td>\n",
       "    </tr>\n",
       "    <tr>\n",
       "      <th>31672</th>\n",
       "      <td>2366.358371</td>\n",
       "      <td>-0.468624</td>\n",
       "      <td>0.223000</td>\n",
       "      <td>-2.101452</td>\n",
       "      <td>0.035601</td>\n",
       "      <td>0.145959</td>\n",
       "    </tr>\n",
       "    <tr>\n",
       "      <th>31673</th>\n",
       "      <td>109936.537426</td>\n",
       "      <td>-0.625287</td>\n",
       "      <td>0.351130</td>\n",
       "      <td>-1.780786</td>\n",
       "      <td>0.074947</td>\n",
       "      <td>0.240329</td>\n",
       "    </tr>\n",
       "    <tr>\n",
       "      <th>31674</th>\n",
       "      <td>548.525970</td>\n",
       "      <td>-0.964636</td>\n",
       "      <td>0.283316</td>\n",
       "      <td>-3.404804</td>\n",
       "      <td>0.000662</td>\n",
       "      <td>0.007922</td>\n",
       "    </tr>\n",
       "    <tr>\n",
       "      <th>31675</th>\n",
       "      <td>530.146055</td>\n",
       "      <td>-0.998164</td>\n",
       "      <td>0.310798</td>\n",
       "      <td>-3.211619</td>\n",
       "      <td>0.001320</td>\n",
       "      <td>0.013429</td>\n",
       "    </tr>\n",
       "  </tbody>\n",
       "</table>\n",
       "</div>"
      ],
      "text/plain": [
       "            baseMean  log2FoldChange     lfcSE      stat    pvalue      padj\n",
       "31671   42502.219218       -0.820926  0.286773 -2.862634  0.004201  0.032088\n",
       "31672    2366.358371       -0.468624  0.223000 -2.101452  0.035601  0.145959\n",
       "31673  109936.537426       -0.625287  0.351130 -1.780786  0.074947  0.240329\n",
       "31674     548.525970       -0.964636  0.283316 -3.404804  0.000662  0.007922\n",
       "31675     530.146055       -0.998164  0.310798 -3.211619  0.001320  0.013429"
      ]
     },
     "execution_count": 16,
     "metadata": {},
     "output_type": "execute_result"
    }
   ],
   "source": [
    "df2.head()\n",
    "df2.tail()"
   ]
  },
  {
   "cell_type": "code",
   "execution_count": 17,
   "id": "e5d329fd",
   "metadata": {},
   "outputs": [
    {
     "data": {
      "text/html": [
       "<div>\n",
       "<style scoped>\n",
       "    .dataframe tbody tr th:only-of-type {\n",
       "        vertical-align: middle;\n",
       "    }\n",
       "\n",
       "    .dataframe tbody tr th {\n",
       "        vertical-align: top;\n",
       "    }\n",
       "\n",
       "    .dataframe thead th {\n",
       "        text-align: right;\n",
       "    }\n",
       "</style>\n",
       "<table border=\"1\" class=\"dataframe\">\n",
       "  <thead>\n",
       "    <tr style=\"text-align: right;\">\n",
       "      <th></th>\n",
       "      <th>0</th>\n",
       "      <th>1</th>\n",
       "      <th>2</th>\n",
       "      <th>3</th>\n",
       "      <th>4</th>\n",
       "      <th>5</th>\n",
       "      <th>6</th>\n",
       "      <th>7</th>\n",
       "      <th>8</th>\n",
       "      <th>9</th>\n",
       "      <th>...</th>\n",
       "      <th>31666</th>\n",
       "      <th>31667</th>\n",
       "      <th>31668</th>\n",
       "      <th>31669</th>\n",
       "      <th>31670</th>\n",
       "      <th>31671</th>\n",
       "      <th>31672</th>\n",
       "      <th>31673</th>\n",
       "      <th>31674</th>\n",
       "      <th>31675</th>\n",
       "    </tr>\n",
       "  </thead>\n",
       "  <tbody>\n",
       "    <tr>\n",
       "      <th>baseMean</th>\n",
       "      <td>8.937455</td>\n",
       "      <td>585.608093</td>\n",
       "      <td>9.537283</td>\n",
       "      <td>1.496880</td>\n",
       "      <td>0.029395</td>\n",
       "      <td>215.414703</td>\n",
       "      <td>1675.521905</td>\n",
       "      <td>6.734755</td>\n",
       "      <td>658.094687</td>\n",
       "      <td>9.353417</td>\n",
       "      <td>...</td>\n",
       "      <td>377044.610228</td>\n",
       "      <td>79.152892</td>\n",
       "      <td>96.887124</td>\n",
       "      <td>55.689365</td>\n",
       "      <td>160063.906775</td>\n",
       "      <td>42502.219218</td>\n",
       "      <td>2366.358371</td>\n",
       "      <td>109936.537426</td>\n",
       "      <td>548.525970</td>\n",
       "      <td>530.146055</td>\n",
       "    </tr>\n",
       "    <tr>\n",
       "      <th>log2FoldChange</th>\n",
       "      <td>-0.241536</td>\n",
       "      <td>-0.206431</td>\n",
       "      <td>-0.198992</td>\n",
       "      <td>-0.166880</td>\n",
       "      <td>-0.001179</td>\n",
       "      <td>0.015189</td>\n",
       "      <td>-0.003430</td>\n",
       "      <td>-0.448925</td>\n",
       "      <td>-0.230518</td>\n",
       "      <td>-0.126075</td>\n",
       "      <td>...</td>\n",
       "      <td>-0.655737</td>\n",
       "      <td>0.122426</td>\n",
       "      <td>0.128325</td>\n",
       "      <td>0.148858</td>\n",
       "      <td>-0.556115</td>\n",
       "      <td>-0.820926</td>\n",
       "      <td>-0.468624</td>\n",
       "      <td>-0.625287</td>\n",
       "      <td>-0.964636</td>\n",
       "      <td>-0.998164</td>\n",
       "    </tr>\n",
       "    <tr>\n",
       "      <th>lfcSE</th>\n",
       "      <td>0.416100</td>\n",
       "      <td>0.180032</td>\n",
       "      <td>0.465941</td>\n",
       "      <td>0.914647</td>\n",
       "      <td>6.244734</td>\n",
       "      <td>0.138907</td>\n",
       "      <td>0.157484</td>\n",
       "      <td>0.501405</td>\n",
       "      <td>0.145098</td>\n",
       "      <td>0.485214</td>\n",
       "      <td>...</td>\n",
       "      <td>0.335130</td>\n",
       "      <td>0.366232</td>\n",
       "      <td>0.372028</td>\n",
       "      <td>0.408795</td>\n",
       "      <td>0.350052</td>\n",
       "      <td>0.286773</td>\n",
       "      <td>0.223000</td>\n",
       "      <td>0.351130</td>\n",
       "      <td>0.283316</td>\n",
       "      <td>0.310798</td>\n",
       "    </tr>\n",
       "    <tr>\n",
       "      <th>stat</th>\n",
       "      <td>-0.580477</td>\n",
       "      <td>-1.146632</td>\n",
       "      <td>-0.427076</td>\n",
       "      <td>-0.182453</td>\n",
       "      <td>-0.000189</td>\n",
       "      <td>0.109346</td>\n",
       "      <td>-0.021777</td>\n",
       "      <td>-0.895333</td>\n",
       "      <td>-1.588705</td>\n",
       "      <td>-0.259834</td>\n",
       "      <td>...</td>\n",
       "      <td>-1.956664</td>\n",
       "      <td>0.334285</td>\n",
       "      <td>0.344934</td>\n",
       "      <td>0.364137</td>\n",
       "      <td>-1.588661</td>\n",
       "      <td>-2.862634</td>\n",
       "      <td>-2.101452</td>\n",
       "      <td>-1.780786</td>\n",
       "      <td>-3.404804</td>\n",
       "      <td>-3.211619</td>\n",
       "    </tr>\n",
       "    <tr>\n",
       "      <th>pvalue</th>\n",
       "      <td>0.561593</td>\n",
       "      <td>0.251534</td>\n",
       "      <td>0.669324</td>\n",
       "      <td>0.855227</td>\n",
       "      <td>0.999849</td>\n",
       "      <td>0.912928</td>\n",
       "      <td>0.982626</td>\n",
       "      <td>0.370609</td>\n",
       "      <td>0.112127</td>\n",
       "      <td>0.794992</td>\n",
       "      <td>...</td>\n",
       "      <td>0.050387</td>\n",
       "      <td>0.738165</td>\n",
       "      <td>0.730144</td>\n",
       "      <td>0.715756</td>\n",
       "      <td>0.112137</td>\n",
       "      <td>0.004201</td>\n",
       "      <td>0.035601</td>\n",
       "      <td>0.074947</td>\n",
       "      <td>0.000662</td>\n",
       "      <td>0.001320</td>\n",
       "    </tr>\n",
       "  </tbody>\n",
       "</table>\n",
       "<p>5 rows × 31676 columns</p>\n",
       "</div>"
      ],
      "text/plain": [
       "                   0           1         2         3         4      \\\n",
       "baseMean        8.937455  585.608093  9.537283  1.496880  0.029395   \n",
       "log2FoldChange -0.241536   -0.206431 -0.198992 -0.166880 -0.001179   \n",
       "lfcSE           0.416100    0.180032  0.465941  0.914647  6.244734   \n",
       "stat           -0.580477   -1.146632 -0.427076 -0.182453 -0.000189   \n",
       "pvalue          0.561593    0.251534  0.669324  0.855227  0.999849   \n",
       "\n",
       "                     5            6         7           8         9      ...  \\\n",
       "baseMean        215.414703  1675.521905  6.734755  658.094687  9.353417  ...   \n",
       "log2FoldChange    0.015189    -0.003430 -0.448925   -0.230518 -0.126075  ...   \n",
       "lfcSE             0.138907     0.157484  0.501405    0.145098  0.485214  ...   \n",
       "stat              0.109346    -0.021777 -0.895333   -1.588705 -0.259834  ...   \n",
       "pvalue            0.912928     0.982626  0.370609    0.112127  0.794992  ...   \n",
       "\n",
       "                        31666      31667      31668      31669          31670  \\\n",
       "baseMean        377044.610228  79.152892  96.887124  55.689365  160063.906775   \n",
       "log2FoldChange      -0.655737   0.122426   0.128325   0.148858      -0.556115   \n",
       "lfcSE                0.335130   0.366232   0.372028   0.408795       0.350052   \n",
       "stat                -1.956664   0.334285   0.344934   0.364137      -1.588661   \n",
       "pvalue               0.050387   0.738165   0.730144   0.715756       0.112137   \n",
       "\n",
       "                       31671        31672          31673       31674  \\\n",
       "baseMean        42502.219218  2366.358371  109936.537426  548.525970   \n",
       "log2FoldChange     -0.820926    -0.468624      -0.625287   -0.964636   \n",
       "lfcSE               0.286773     0.223000       0.351130    0.283316   \n",
       "stat               -2.862634    -2.101452      -1.780786   -3.404804   \n",
       "pvalue              0.004201     0.035601       0.074947    0.000662   \n",
       "\n",
       "                     31675  \n",
       "baseMean        530.146055  \n",
       "log2FoldChange   -0.998164  \n",
       "lfcSE             0.310798  \n",
       "stat             -3.211619  \n",
       "pvalue            0.001320  \n",
       "\n",
       "[5 rows x 31676 columns]"
      ]
     },
     "execution_count": 17,
     "metadata": {},
     "output_type": "execute_result"
    }
   ],
   "source": [
    "df2 = df2.T\n",
    "df2.head()"
   ]
  },
  {
   "cell_type": "code",
   "execution_count": 20,
   "id": "0c9f8b8e",
   "metadata": {},
   "outputs": [],
   "source": [
    "df2.to_csv('file_name.csv', index = True)"
   ]
  },
  {
   "cell_type": "markdown",
   "id": "f61b42b8",
   "metadata": {},
   "source": [
    "#NUMPY - Numerical python"
   ]
  },
  {
   "cell_type": "code",
   "execution_count": 22,
   "id": "69515199",
   "metadata": {},
   "outputs": [],
   "source": [
    "import numpy as np\n",
    "arr1 = np.array([1, 2, 3, 4])\n",
    "arr2 = np.arange(1, 10, 2)"
   ]
  },
  {
   "cell_type": "code",
   "execution_count": 23,
   "id": "de53b832",
   "metadata": {},
   "outputs": [
    {
     "name": "stdout",
     "output_type": "stream",
     "text": [
      "[1 2 3 4]\n"
     ]
    }
   ],
   "source": [
    "print(arr1)"
   ]
  },
  {
   "cell_type": "code",
   "execution_count": 24,
   "id": "a4b3461e",
   "metadata": {},
   "outputs": [
    {
     "name": "stdout",
     "output_type": "stream",
     "text": [
      "[1 3 5 7 9]\n"
     ]
    }
   ],
   "source": [
    "print(arr2)"
   ]
  },
  {
   "cell_type": "code",
   "execution_count": 25,
   "id": "d996a555",
   "metadata": {},
   "outputs": [
    {
     "data": {
      "text/plain": [
       "array([[1],\n",
       "       [3],\n",
       "       [5],\n",
       "       [7],\n",
       "       [9]])"
      ]
     },
     "execution_count": 25,
     "metadata": {},
     "output_type": "execute_result"
    }
   ],
   "source": [
    "arr3 = np.arange(1, 10, 2).reshape(5,1)\n",
    "arr3"
   ]
  },
  {
   "cell_type": "code",
   "execution_count": 26,
   "id": "bd7618ea",
   "metadata": {},
   "outputs": [
    {
     "name": "stdout",
     "output_type": "stream",
     "text": [
      "[ 3  6  9 12]\n"
     ]
    }
   ],
   "source": [
    "print(arr1*3)"
   ]
  },
  {
   "cell_type": "code",
   "execution_count": 27,
   "id": "2a27fa9c",
   "metadata": {},
   "outputs": [
    {
     "name": "stdout",
     "output_type": "stream",
     "text": [
      "Mean:2.5\n",
      "Sum: 10\n"
     ]
    }
   ],
   "source": [
    "print(f\"Mean:{arr1.mean()}\")\n",
    "print(f\"Sum: {arr1.sum()}\")"
   ]
  },
  {
   "cell_type": "code",
   "execution_count": 28,
   "id": "888eda37",
   "metadata": {},
   "outputs": [],
   "source": [
    "import matplotlib.pyplot as plt\n",
    "import seaborn as sns\n",
    "\n",
    "data_vis = {'Scores': [85,90,78,92,88,75],\n",
    "           'Hours_studied': [4,6,3,7,5,2]}\n",
    "df_vis = pd.DataFrame(data_vis)"
   ]
  },
  {
   "cell_type": "code",
   "execution_count": 29,
   "id": "ee45bb29",
   "metadata": {},
   "outputs": [
    {
     "data": {
      "text/html": [
       "<div>\n",
       "<style scoped>\n",
       "    .dataframe tbody tr th:only-of-type {\n",
       "        vertical-align: middle;\n",
       "    }\n",
       "\n",
       "    .dataframe tbody tr th {\n",
       "        vertical-align: top;\n",
       "    }\n",
       "\n",
       "    .dataframe thead th {\n",
       "        text-align: right;\n",
       "    }\n",
       "</style>\n",
       "<table border=\"1\" class=\"dataframe\">\n",
       "  <thead>\n",
       "    <tr style=\"text-align: right;\">\n",
       "      <th></th>\n",
       "      <th>Scores</th>\n",
       "      <th>Hours_studied</th>\n",
       "    </tr>\n",
       "  </thead>\n",
       "  <tbody>\n",
       "    <tr>\n",
       "      <th>0</th>\n",
       "      <td>85</td>\n",
       "      <td>4</td>\n",
       "    </tr>\n",
       "    <tr>\n",
       "      <th>1</th>\n",
       "      <td>90</td>\n",
       "      <td>6</td>\n",
       "    </tr>\n",
       "    <tr>\n",
       "      <th>2</th>\n",
       "      <td>78</td>\n",
       "      <td>3</td>\n",
       "    </tr>\n",
       "    <tr>\n",
       "      <th>3</th>\n",
       "      <td>92</td>\n",
       "      <td>7</td>\n",
       "    </tr>\n",
       "    <tr>\n",
       "      <th>4</th>\n",
       "      <td>88</td>\n",
       "      <td>5</td>\n",
       "    </tr>\n",
       "    <tr>\n",
       "      <th>5</th>\n",
       "      <td>75</td>\n",
       "      <td>2</td>\n",
       "    </tr>\n",
       "  </tbody>\n",
       "</table>\n",
       "</div>"
      ],
      "text/plain": [
       "   Scores  Hours_studied\n",
       "0      85              4\n",
       "1      90              6\n",
       "2      78              3\n",
       "3      92              7\n",
       "4      88              5\n",
       "5      75              2"
      ]
     },
     "execution_count": 29,
     "metadata": {},
     "output_type": "execute_result"
    }
   ],
   "source": [
    "df_vis"
   ]
  },
  {
   "cell_type": "code",
   "execution_count": 30,
   "id": "a51bcdd1",
   "metadata": {},
   "outputs": [
    {
     "data": {
      "image/png": "[encoded data removed]",
      "text/plain": [
       "<Figure size 640x480 with 1 Axes>"
      ]
     },
     "metadata": {},
     "output_type": "display_data"
    }
   ],
   "source": [
    "#scatter plot\n",
    "sns.scatterplot(x='Hours_studied', y='Scores', data = df_vis)\n",
    "plt.title('Scores v/s Hours')\n",
    "plt.xlabel('Hours')\n",
    "plt.ylabel('Scores')\n",
    "plt.show()"
   ]
  },
  {
   "cell_type": "code",
   "execution_count": 32,
   "id": "61a98c21",
   "metadata": {},
   "outputs": [
    {
     "data": {
      "image/png": "[encoded data removed]",
      "text/plain": [
       "<Figure size 640x480 with 1 Axes>"
      ]
     },
     "metadata": {},
     "output_type": "display_data"
    }
   ],
   "source": [
    "#line plot\n",
    "x = np.arange(5) #1 2 3 4 5\n",
    "y = x**2 # 1 4 9 16 25\n",
    "plt.figure()\n",
    "plt.plot(x, y, marker = 'o')\n",
    "plt.title('Linear Graph')\n",
    "plt.show()"
   ]
  },
  {
   "cell_type": "code",
   "execution_count": 35,
   "id": "cdf218fc",
   "metadata": {},
   "outputs": [
    {
     "data": {
      "text/html": [
       "<div>\n",
       "<style scoped>\n",
       "    .dataframe tbody tr th:only-of-type {\n",
       "        vertical-align: middle;\n",
       "    }\n",
       "\n",
       "    .dataframe tbody tr th {\n",
       "        vertical-align: top;\n",
       "    }\n",
       "\n",
       "    .dataframe thead th {\n",
       "        text-align: right;\n",
       "    }\n",
       "</style>\n",
       "<table border=\"1\" class=\"dataframe\">\n",
       "  <thead>\n",
       "    <tr style=\"text-align: right;\">\n",
       "      <th></th>\n",
       "      <th>Control1</th>\n",
       "      <th>Treated_A</th>\n",
       "      <th>Treated_B</th>\n",
       "    </tr>\n",
       "  </thead>\n",
       "  <tbody>\n",
       "    <tr>\n",
       "      <th>GeneA</th>\n",
       "      <td>10</td>\n",
       "      <td>12</td>\n",
       "      <td>9</td>\n",
       "    </tr>\n",
       "    <tr>\n",
       "      <th>GeneB</th>\n",
       "      <td>12</td>\n",
       "      <td>18</td>\n",
       "      <td>11</td>\n",
       "    </tr>\n",
       "    <tr>\n",
       "      <th>GeneC</th>\n",
       "      <td>8</td>\n",
       "      <td>7</td>\n",
       "      <td>15</td>\n",
       "    </tr>\n",
       "    <tr>\n",
       "      <th>GeneD</th>\n",
       "      <td>15</td>\n",
       "      <td>5</td>\n",
       "      <td>13</td>\n",
       "    </tr>\n",
       "    <tr>\n",
       "      <th>GeneE</th>\n",
       "      <td>11</td>\n",
       "      <td>10</td>\n",
       "      <td>6</td>\n",
       "    </tr>\n",
       "  </tbody>\n",
       "</table>\n",
       "</div>"
      ],
      "text/plain": [
       "       Control1  Treated_A  Treated_B\n",
       "GeneA        10         12          9\n",
       "GeneB        12         18         11\n",
       "GeneC         8          7         15\n",
       "GeneD        15          5         13\n",
       "GeneE        11         10          6"
      ]
     },
     "execution_count": 35,
     "metadata": {},
     "output_type": "execute_result"
    }
   ],
   "source": [
    "df_expression = pd.read_csv('differential_expression_test.csv', index_col=0)\n",
    "df_expression"
   ]
  },
  {
   "cell_type": "code",
   "execution_count": 37,
   "id": "a6ed9383",
   "metadata": {},
   "outputs": [
    {
     "data": {
      "image/png": "[encoded data removed]",
      "text/plain": [
       "<Figure size 700x600 with 2 Axes>"
      ]
     },
     "metadata": {},
     "output_type": "display_data"
    }
   ],
   "source": [
    "plt.figure(figsize = (7,6))\n",
    "sns.heatmap(df_expression, cmap='viridis', annot=True, fmt=\".1f\", linewidth = .5, cbar_kws={'label':'Expression Level'})\n",
    "plt.xlabel('Condition')\n",
    "plt.ylabel('Gene')\n",
    "plt.title('Gene Expression Heatmap')\n",
    "plt.show()"
   ]
  },
  {
   "cell_type": "markdown",
   "id": "5e6a87b6",
   "metadata": {},
   "source": [
    "#biopython"
   ]
  },
  {
   "cell_type": "code",
   "execution_count": 38,
   "id": "9c6bb5bf",
   "metadata": {},
   "outputs": [
    {
     "name": "stdout",
     "output_type": "stream",
     "text": [
      "Original seq: ATCGATCGTACGATCTTTCACTAGTCATGCTAGCTAGCATGCAT\n",
      "Length: 44\n"
     ]
    }
   ],
   "source": [
    "from Bio.Seq import Seq\n",
    "dna_seq = Seq(\"ATCGATCGTACGATCTTTCACTAGTCATGCTAGCTAGCATGCAT\")\n",
    "print(f\"Original seq: {dna_seq}\")\n",
    "print(f\"Length: {len(dna_seq)}\")"
   ]
  },
  {
   "cell_type": "code",
   "execution_count": 39,
   "id": "1bcb0e86",
   "metadata": {},
   "outputs": [
    {
     "data": {
      "text/plain": [
       "44"
      ]
     },
     "execution_count": 39,
     "metadata": {},
     "output_type": "execute_result"
    }
   ],
   "source": [
    "len(dna_seq)"
   ]
  },
  {
   "cell_type": "code",
   "execution_count": 40,
   "id": "b303803a",
   "metadata": {},
   "outputs": [
    {
     "name": "stdout",
     "output_type": "stream",
     "text": [
      "ATCGATCGTACGATCTTTCACTAGTCATGCTAGCTAGCATGCAT\n",
      "AUCGAUCGUACGAUCUUUCACUAGUCAUGCUAGCUAGCAUGCAU\n"
     ]
    }
   ],
   "source": [
    "#DNA-> RNA \n",
    "mrna_seq = dna_seq.transcribe()\n",
    "print(dna_seq)\n",
    "print(mrna_seq)"
   ]
  },
  {
   "cell_type": "code",
   "execution_count": 41,
   "id": "793f3619",
   "metadata": {},
   "outputs": [
    {
     "name": "stdout",
     "output_type": "stream",
     "text": [
      "IDRTIFH\n"
     ]
    },
    {
     "name": "stderr",
     "output_type": "stream",
     "text": [
      "C:\\Users\\chaud\\anaconda3\\lib\\site-packages\\Bio\\Seq.py:2804: BiopythonWarning: Partial codon, len(sequence) not a multiple of three. Explicitly trim the sequence or add trailing N before translation. This may become an error in future.\n",
      "  warnings.warn(\n"
     ]
    }
   ],
   "source": [
    "#RNA-> Protein(Translation)\n",
    "protein_seq = mrna_seq.translate(to_stop=True)\n",
    "print(protein_seq)"
   ]
  },
  {
   "cell_type": "code",
   "execution_count": null,
   "id": "6e7a60be",
   "metadata": {},
   "outputs": [],
   "source": []
  }
 ],
 "metadata": {
  "kernelspec": {
   "display_name": "Python 3 (ipykernel)",
   "language": "python",
   "name": "python3"
  },
  "language_info": {
   "codemirror_mode": {
    "name": "ipython",
    "version": 3
   },
   "file_extension": ".py",
   "mimetype": "text/x-python",
   "name": "python",
   "nbconvert_exporter": "python",
   "pygments_lexer": "ipython3",
   "version": "3.10.9"
  }
 },
 "nbformat": 4,
 "nbformat_minor": 5
}
