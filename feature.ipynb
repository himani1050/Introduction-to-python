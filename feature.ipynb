{
 "cells": [
  {
   "cell_type": "code",
   "execution_count": 1,
   "id": "6ae0413f",
   "metadata": {},
   "outputs": [
    {
     "name": "stdout",
     "output_type": "stream",
     "text": [
      "Dataset shape: (100, 20) (samples, genes)\n",
      "Class distribution: Normal 50, Cancer 50\n"
     ]
    }
   ],
   "source": [
    "import pandas as pd\n",
    "from sklearn.model_selection import train_test_split\n",
    "from sklearn.linear_model import LogisticRegression\n",
    "from sklearn.feature_selection import RFE\n",
    "from sklearn.metrics import accuracy_score, classification_report\n",
    "import numpy as np\n",
    "\n",
    "# Load the mock data\n",
    "df = pd.read_csv('gene_expression.csv')\n",
    "\n",
    "# Features (genes) and target\n",
    "X = df.iloc[:, :-1]  # All columns except Label\n",
    "y = pd.get_dummies(df['Label']).reindex(columns=['Cancer', 'Normal'], fill_value=0)['Cancer']  # Binary: 1=Cancer, 0=Normal\n",
    "\n",
    "# Split: 80% train, 20% test\n",
    "X_train, X_test, y_train, y_test = train_test_split(X, y, test_size=0.2, random_state=42, stratify=y)\n",
    "\n",
    "print(f\"Dataset shape: {X.shape} (samples, genes)\")\n",
    "print(f\"Class distribution: Normal {y.value_counts()[0]}, Cancer {y.value_counts()[1]}\")"
   ]
  },
  {
   "cell_type": "code",
   "execution_count": 2,
   "id": "b2305a07",
   "metadata": {},
   "outputs": [
    {
     "name": "stdout",
     "output_type": "stream",
     "text": [
      "Selected genes: ['Gene_1', 'Gene_2', 'Gene_3', 'Gene_5', 'Gene_7']\n",
      "Feature rankings: {'Gene_1': 1, 'Gene_2': 1, 'Gene_3': 1, 'Gene_4': 4, 'Gene_5': 1, 'Gene_6': 2, 'Gene_7': 1, 'Gene_8': 15, 'Gene_9': 3, 'Gene_10': 6, 'Gene_11': 8, 'Gene_12': 10, 'Gene_13': 14, 'Gene_14': 16, 'Gene_15': 7, 'Gene_16': 12, 'Gene_17': 5, 'Gene_18': 13, 'Gene_19': 9, 'Gene_20': 11}\n"
     ]
    }
   ],
   "source": [
    "# Initialize the model and RFE (select top 5 features)\n",
    "estimator = LogisticRegression(random_state=42, max_iter=1000)\n",
    "rfe = RFE(estimator, n_features_to_select=5, step=1)  # Step=1 removes one feature per iteration\n",
    "\n",
    "# Fit RFE on training data\n",
    "rfe.fit(X_train, y_train)\n",
    "\n",
    "# Get selected features\n",
    "selected_features = X_train.columns[rfe.support_]\n",
    "feature_ranking = rfe.ranking_  # Lower rank = more important (1 = selected)\n",
    "\n",
    "print(\"Selected genes:\", list(selected_features))\n",
    "print(\"Feature rankings:\", dict(zip(X_train.columns, feature_ranking)))\n"
   ]
  },
  {
   "cell_type": "code",
   "execution_count": 3,
   "id": "ecb993b0",
   "metadata": {},
   "outputs": [
    {
     "name": "stdout",
     "output_type": "stream",
     "text": [
      "Accuracy on test set: 0.80\n",
      "\n",
      "Classification Report:\n",
      "               precision    recall  f1-score   support\n",
      "\n",
      "           0       0.88      0.70      0.78        10\n",
      "           1       0.75      0.90      0.82        10\n",
      "\n",
      "    accuracy                           0.80        20\n",
      "   macro avg       0.81      0.80      0.80        20\n",
      "weighted avg       0.81      0.80      0.80        20\n",
      "\n"
     ]
    }
   ],
   "source": [
    "# Transform train/test to selected features\n",
    "X_train_selected = rfe.transform(X_train)\n",
    "X_test_selected = rfe.transform(X_test)\n",
    "\n",
    "# Train final model\n",
    "final_model = LogisticRegression(random_state=42, max_iter=1000)\n",
    "final_model.fit(X_train_selected, y_train)\n",
    "\n",
    "# Predict and evaluate\n",
    "y_pred = final_model.predict(X_test_selected)\n",
    "accuracy = accuracy_score(y_test, y_pred)\n",
    "\n",
    "print(f\"Accuracy on test set: {accuracy:.2f}\")\n",
    "print(\"\\nClassification Report:\\n\", classification_report(y_test, y_pred))\n"
   ]
  },
  {
   "cell_type": "code",
   "execution_count": 4,
   "id": "e435ab23",
   "metadata": {},
   "outputs": [
    {
     "data": {
      "image/png": "[encoded data removed]",
      "text/plain": [
       "<Figure size 640x480 with 1 Axes>"
      ]
     },
     "metadata": {},
     "output_type": "display_data"
    }
   ],
   "source": [
    "import matplotlib.pyplot as plt\n",
    "\n",
    "# Coefficients as importances\n",
    "importances = final_model.coef_[0]\n",
    "plt.bar(range(len(selected_features)), importances)\n",
    "plt.xticks(range(len(selected_features)), selected_features, rotation=45)\n",
    "plt.xlabel('Selected Genes')\n",
    "plt.ylabel('Coefficient Value')\n",
    "plt.title('Feature Importances from RFE + Logistic Regression')\n",
    "plt.tight_layout()\n",
    "plt.show()\n"
   ]
  },
  {
   "cell_type": "code",
   "execution_count": null,
   "id": "90f42cc3",
   "metadata": {},
   "outputs": [],
   "source": []
  }
 ],
 "metadata": {
  "kernelspec": {
   "display_name": "Python 3 (ipykernel)",
   "language": "python",
   "name": "python3"
  },
  "language_info": {
   "codemirror_mode": {
    "name": "ipython",
    "version": 3
   },
   "file_extension": ".py",
   "mimetype": "text/x-python",
   "name": "python",
   "nbconvert_exporter": "python",
   "pygments_lexer": "ipython3",
   "version": "3.10.9"
  }
 },
 "nbformat": 4,
 "nbformat_minor": 5
}
